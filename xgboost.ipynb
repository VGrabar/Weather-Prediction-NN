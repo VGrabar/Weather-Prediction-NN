{
 "cells": [
  {
   "cell_type": "code",
   "execution_count": 1,
   "id": "e5536b63",
   "metadata": {},
   "outputs": [],
   "source": [
    "import torch\n",
    "\n",
    "torch_data = torch.load(\"data/celled/pdsi_iowa_60y_73x149\")"
   ]
  },
  {
   "cell_type": "code",
   "execution_count": 6,
   "id": "a48aebec",
   "metadata": {},
   "outputs": [],
   "source": [
    "numpy_data = torch_data.numpy()\n",
    "numpy_data = numpy_data[:, 0, :, :]"
   ]
  },
  {
   "cell_type": "code",
   "execution_count": 7,
   "id": "12c8d159",
   "metadata": {},
   "outputs": [
    {
     "data": {
      "text/plain": [
       "(720, 73, 149)"
      ]
     },
     "execution_count": 7,
     "metadata": {},
     "output_type": "execute_result"
    }
   ],
   "source": [
    "numpy_data.shape"
   ]
  },
  {
   "cell_type": "code",
   "execution_count": 24,
   "id": "e018fb26",
   "metadata": {},
   "outputs": [],
   "source": [
    "import pandas as pd\n",
    "import numpy as np\n",
    "\n",
    "def series_to_supervised(data, n_in=1, n_out=1, dropnan=True):\n",
    "    print(data.shape)\n",
    "    #n_vars = 1 if type(data) is list else data.shape[1]\n",
    "    n_vars = 1\n",
    "    df = pd.DataFrame(data)\n",
    "    cols = list()\n",
    "    # input sequence (t-n, ... t-1)\n",
    "    for i in range(n_in, 0, -1):\n",
    "        cols.append(df.shift(i))\n",
    "    # forecast sequence (t, t+1, ... t+n)\n",
    "    for i in range(0, n_out):\n",
    "        cols.append(df.shift(-i))\n",
    "    # put it all together\n",
    "    agg = pd.concat(cols, axis=1)\n",
    "    # drop rows with NaN values\n",
    "    if dropnan:\n",
    "        agg.dropna(inplace=True)\n",
    "    return agg.values"
   ]
  },
  {
   "cell_type": "code",
   "execution_count": 11,
   "id": "fbc12328",
   "metadata": {},
   "outputs": [
    {
     "name": "stdout",
     "output_type": "stream",
     "text": [
      "Collecting xgboost\n",
      "  Downloading xgboost-1.6.2-py3-none-macosx_10_15_x86_64.macosx_11_0_x86_64.macosx_12_0_x86_64.whl (1.7 MB)\n",
      "\u001b[K     |████████████████████████████████| 1.7 MB 1.8 MB/s eta 0:00:01\n",
      "\u001b[?25hRequirement already satisfied: numpy in /Users/vgrabar/opt/anaconda3/lib/python3.9/site-packages (from xgboost) (1.21.5)\n",
      "Requirement already satisfied: scipy in /Users/vgrabar/opt/anaconda3/lib/python3.9/site-packages (from xgboost) (1.8.1)\n",
      "Installing collected packages: xgboost\n",
      "Successfully installed xgboost-1.6.2\n"
     ]
    }
   ],
   "source": [
    "!pip install xgboost"
   ]
  },
  {
   "cell_type": "code",
   "execution_count": 54,
   "id": "25a479e0",
   "metadata": {},
   "outputs": [],
   "source": [
    "from sklearn.metrics import mean_absolute_error, r2_score\n",
    "from xgboost import XGBRegressor\n",
    "\n",
    "\n",
    "def xgboost_forecast(train, testX):\n",
    "    # transform list into array\n",
    "    train = np.asarray(train)\n",
    "    # split into input and output columns\n",
    "    trainX, trainy = train[:, :-1], train[:, -1]\n",
    "    # fit model\n",
    "    model = XGBRegressor(objective='reg:squarederror', n_estimators=1000)\n",
    "    model.fit(trainX, trainy)\n",
    "    # make a one-step prediction\n",
    "    yhat = model.predict([testX])\n",
    "    return yhat[0]\n",
    "\n",
    "# split a univariate dataset into train/test sets\n",
    "def train_test_split(data, n_test):\n",
    "    return data[:-n_test, :], data[-n_test:, :]\n",
    "\n",
    "def walk_forward_validation(data, n_test):\n",
    "    predictions = list()\n",
    "    # split dataset\n",
    "    train, test = train_test_split(data, n_test)\n",
    "    # seed history with training dataset\n",
    "    history = [x for x in train]\n",
    "    # step over each time-step in the test set\n",
    "    for i in range(len(test)):\n",
    "        # split test row into input and output columns\n",
    "        testX, testy = test[i, :-1], test[i, -1]\n",
    "        # fit model on history and make a prediction\n",
    "        yhat = xgboost_forecast(history, testX)\n",
    "        # store forecast in list of predictions\n",
    "        predictions.append(yhat)\n",
    "        # add actual observation to history for the next loop\n",
    "        history.append(test[i])\n",
    "        # summarize progress\n",
    "        # print('>expected=%.1f, predicted=%.1f' % (testy, yhat))\n",
    "    # estimate prediction error\n",
    "    #error = mean_absolute_error(test[:, -1], predictions)\n",
    "    # estimate prediction error\n",
    "    score = r2_score(test[:, -1], predictions)\n",
    "    return score, test[:, 1], predictions"
   ]
  },
  {
   "cell_type": "code",
   "execution_count": 43,
   "id": "a10e5e71",
   "metadata": {},
   "outputs": [
    {
     "data": {
      "text/plain": [
       "tensor([ 2.3600e+00,  2.5900e+00,  2.5500e+00,  3.4400e+00,  3.0700e+00,\n",
       "         2.3800e+00,  2.1600e+00,  1.8000e+00,  1.5700e+00,  6.4000e-01,\n",
       "        -1.6800e+00, -2.2300e+00, -1.9100e+00, -7.8000e-01, -9.0000e-01,\n",
       "        -1.3800e+00, -1.9100e+00, -9.8000e-01, -1.5100e+00,  1.5700e+00,\n",
       "         1.6500e+00,  2.3300e+00,  2.6200e+00,  2.2500e+00,  2.8800e+00,\n",
       "         2.9700e+00,  2.3100e+00,  2.5200e+00,  1.6900e+00,  2.8400e+00,\n",
       "         2.5200e+00,  1.7400e+00,  1.5400e+00,  5.6000e-01, -1.8700e+00,\n",
       "        -2.1000e+00, -2.4700e+00, -2.6000e+00, -2.3100e+00, -2.4400e+00,\n",
       "        -3.3700e+00, -2.5000e+00, -2.1500e+00, -2.7700e+00, -3.6200e+00,\n",
       "        -3.7100e+00, -4.0800e+00, -4.3700e+00, -4.8400e+00, -4.6100e+00,\n",
       "        -3.6300e+00, -3.5400e+00, -2.9700e+00, -2.9300e+00, -2.9300e+00,\n",
       "        -2.7300e+00, -3.6300e+00, -4.0100e+00, -4.0700e+00, -3.6000e+00,\n",
       "        -3.2000e+00, -1.8600e+00, -6.8000e-01,  1.9300e+00,  1.9400e+00,\n",
       "         1.4200e+00,  1.2700e+00,  3.2000e+00,  2.4400e+00,  1.9300e+00,\n",
       "         1.8000e+00,  1.8900e+00,  1.7400e+00,  1.2000e+00,  9.9000e-01,\n",
       "         1.3400e+00,  1.8800e+00,  1.4900e+00, -1.0300e+00, -2.2200e+00,\n",
       "        -2.7400e+00, -3.3300e+00, -3.4500e+00, -3.1800e+00, -3.3600e+00,\n",
       "        -3.5900e+00, -3.3600e+00, -3.5400e+00, -2.2700e+00, -2.8100e+00,\n",
       "        -2.7500e+00, -3.0800e+00, -2.6200e+00, -2.6700e+00, -2.8600e+00,\n",
       "        -2.8700e+00, -3.3000e+00, -4.1100e+00, -3.5200e+00, -3.6600e+00,\n",
       "        -3.7000e+00, -3.3000e+00, -3.1300e+00, -2.8900e+00, -2.5200e+00,\n",
       "        -2.3800e+00, -1.8900e+00, -1.0600e+00, -8.5000e-01, -7.3000e-01,\n",
       "         1.3100e+00,  1.4400e+00,  2.8000e+00,  4.1400e+00,  3.8300e+00,\n",
       "         3.2700e+00,  3.4600e+00,  2.4800e+00,  2.3200e+00,  1.8000e+00,\n",
       "         1.1900e+00,  2.0500e+00,  1.3500e+00,  1.3900e+00,  6.6000e-01,\n",
       "        -1.0600e+00, -9.4000e-01,  1.0800e+00,  2.2800e+00,  2.0800e+00,\n",
       "         2.2300e+00,  2.6500e+00,  3.6900e+00,  3.1800e+00,  1.8400e+00,\n",
       "         1.5000e+00,  9.3000e-01,  7.2000e-01, -2.7100e+00, -3.4400e+00,\n",
       "        -3.1800e+00, -2.4300e+00, -2.1100e+00, -2.1300e+00, -1.9200e+00,\n",
       "        -1.9600e+00, -1.5100e+00, -1.0400e+00,  1.0800e+00,  1.6700e+00,\n",
       "         2.2000e+00,  3.0500e+00,  3.3900e+00,  3.6400e+00,  3.9000e+00,\n",
       "         4.3300e+00,  4.5100e+00,  4.3400e+00,  4.7800e+00,  5.2200e+00,\n",
       "         4.5400e+00,  4.2300e+00,  2.9600e+00,  3.7300e+00,  3.3100e+00,\n",
       "         3.0400e+00,  3.5600e+00,  3.8100e+00,  3.5700e+00,  2.9000e+00,\n",
       "         2.7200e+00,  4.2000e+00,  4.3000e+00,  3.8000e+00,  4.3500e+00,\n",
       "         3.6600e+00,  3.8500e+00,  3.4200e+00,  3.3700e+00,  3.4300e+00,\n",
       "         3.5800e+00,  3.9100e+00,  3.7500e+00,  3.1900e+00,  3.3800e+00,\n",
       "         1.5800e+00,  1.4800e+00, -1.9800e+00, -3.1200e+00, -2.3700e+00,\n",
       "        -2.6500e+00, -2.9600e+00, -2.5800e+00, -2.0600e+00, -6.5000e-01,\n",
       "        -6.9000e-01, -7.6000e-01, -1.8100e+00, -2.9300e+00, -4.1900e+00,\n",
       "        -4.4600e+00, -4.4600e+00, -4.8500e+00, -5.0500e+00, -5.3500e+00,\n",
       "        -5.0400e+00, -5.3900e+00, -5.8100e+00, -6.3700e+00, -6.2800e+00,\n",
       "        -3.1000e+00, -2.0800e+00, -6.8000e-01, -7.5000e-01,  3.3400e+00,\n",
       "         3.0500e+00,  2.7800e+00,  2.2700e+00,  2.8400e+00,  2.5900e+00,\n",
       "         2.3500e+00,  2.3900e+00,  1.6200e+00,  2.0300e+00,  1.4900e+00,\n",
       "         1.8100e+00,  1.5800e+00,  2.0600e+00,  1.7600e+00,  2.7700e+00,\n",
       "         3.0200e+00,  2.5100e+00,  2.1700e+00,  2.0300e+00,  2.8000e+00,\n",
       "         1.6000e+00,  1.7600e+00,  1.5900e+00,  9.3000e-01,  1.2100e+00,\n",
       "         1.1800e+00,  7.8000e-01, -1.3800e+00, -2.0600e+00, -1.6500e+00,\n",
       "        -2.7000e+00, -1.9200e+00, -2.0100e+00, -2.1900e+00, -3.0300e+00,\n",
       "        -3.2500e+00, -3.7500e+00, -3.2000e+00, -4.4100e+00, -4.2000e+00,\n",
       "        -4.8200e+00, -4.2400e+00, -3.5200e+00, -2.8000e+00, -2.7600e+00,\n",
       "        -2.5600e+00, -2.3100e+00, -2.4000e+00, -1.6700e+00, -1.7000e+00,\n",
       "        -8.1000e-01, -6.9000e-01,  2.1700e+00,  2.3600e+00,  3.1700e+00,\n",
       "         3.1200e+00,  3.0000e+00,  3.1800e+00,  3.7600e+00,  4.8800e+00,\n",
       "         4.5500e+00,  4.4500e+00,  4.2900e+00,  4.1700e+00,  4.6900e+00,\n",
       "         4.5500e+00,  4.2500e+00,  2.9400e+00,  2.7400e+00,  3.2300e+00,\n",
       "         4.5900e+00,  4.3900e+00,  4.0000e+00,  3.7000e+00,  3.6800e+00,\n",
       "         4.4500e+00,  4.5700e+00,  4.8300e+00,  4.9000e+00,  3.3500e+00,\n",
       "         2.2000e+00,  3.0000e+00,  2.6900e+00,  2.8800e+00,  2.7600e+00,\n",
       "         3.1600e+00,  2.7600e+00,  1.5000e+00, -1.9000e+00, -2.1700e+00,\n",
       "        -2.8900e+00, -3.0000e+00, -2.2000e+00, -1.4400e+00, -6.7000e-01,\n",
       "         1.8300e+00,  1.5600e+00,  1.9100e+00,  1.2400e+00,  1.1200e+00,\n",
       "         1.9700e+00,  2.3200e+00,  2.4500e+00,  2.6600e+00,  4.0100e+00,\n",
       "         4.2700e+00,  4.1900e+00,  3.8900e+00,  3.3900e+00,  2.5300e+00,\n",
       "         2.3300e+00,  1.4500e+00,  7.6000e-01, -2.3800e+00, -2.2900e+00,\n",
       "         1.8500e+00,  1.6400e+00,  7.7000e-01,  9.5000e-01,  1.3700e+00,\n",
       "         1.2900e+00,  1.0200e+00, -1.1400e+00, -2.2600e+00, -3.7300e+00,\n",
       "        -4.9200e+00, -5.7900e+00, -5.9800e+00, -6.1400e+00, -6.4500e+00,\n",
       "        -5.6300e+00, -5.5600e+00, -5.0300e+00, -4.8900e+00, -4.9400e+00,\n",
       "        -5.0500e+00, -5.0100e+00, -5.1400e+00, -5.2300e+00, -4.8800e+00,\n",
       "        -4.2000e+00, -3.7800e+00, -3.9200e+00, -4.2600e+00, -4.1000e+00,\n",
       "        -4.1600e+00, -3.0900e+00, -2.8400e+00, -1.5900e+00,  2.8500e+00,\n",
       "         4.1900e+00,  4.4500e+00,  3.6700e+00,  2.9300e+00,  2.1900e+00,\n",
       "         1.9800e+00,  1.6600e+00,  1.0100e+00,  1.5900e+00,  3.1700e+00,\n",
       "         3.8700e+00,  3.3700e+00,  1.9700e+00,  1.3400e+00,  5.7000e-01,\n",
       "         7.9000e-01,  2.2100e+00,  2.6000e+00,  2.7200e+00,  2.8900e+00,\n",
       "         2.0600e+00,  2.4100e+00,  1.4000e+00, -1.8300e+00,  1.8400e+00,\n",
       "         1.7200e+00,  2.3600e+00,  1.4900e+00,  3.3500e+00,  3.6600e+00,\n",
       "         3.7300e+00,  3.8000e+00,  4.4600e+00,  4.5100e+00,  4.8000e+00,\n",
       "         6.1300e+00,  8.4400e+00,  1.0870e+01,  1.0600e+01,  9.1700e+00,\n",
       "         8.0500e+00,  6.9600e+00,  6.7700e+00,  6.6900e+00,  4.7400e+00,\n",
       "         3.5000e+00,  2.2200e+00,  2.4500e+00,  2.2100e+00,  1.5700e+00,\n",
       "         1.3700e+00,  7.1000e-01,  6.1000e-01, -1.9700e+00, -2.0200e+00,\n",
       "        -2.3600e+00, -2.3800e+00, -8.7000e-01,  2.0100e+00,  2.0800e+00,\n",
       "         1.8600e+00,  9.5000e-01, -1.1400e+00, -1.6200e+00, -9.5000e-01,\n",
       "        -1.3600e+00,  9.2000e-01, -1.8000e-01,  7.7000e-01, -7.5000e-01,\n",
       "         1.3800e+00,  1.8600e+00,  1.6500e+00,  1.3300e+00,  9.6000e-01,\n",
       "         9.5000e-01,  1.6000e+00,  1.3500e+00,  1.5700e+00,  2.0200e+00,\n",
       "         1.2700e+00,  8.2000e-01,  1.2000e+00,  1.3500e+00,  9.1000e-01,\n",
       "        -2.8000e-01, -9.8000e-01,  7.3000e-01, -1.0000e-01, -8.0000e-02,\n",
       "         6.7000e-01,  1.0800e+00,  2.4000e+00,  2.2900e+00,  2.5000e+00,\n",
       "         4.2000e+00,  3.6800e+00,  4.0000e+00,  3.1100e+00,  3.9700e+00,\n",
       "         3.4200e+00,  2.7700e+00,  3.0300e+00,  2.7700e+00,  1.8600e+00,\n",
       "         2.8100e+00,  3.4800e+00,  3.7200e+00,  3.5200e+00,  3.0600e+00,\n",
       "         1.7700e+00, -2.1300e+00, -2.7200e+00, -3.1400e+00, -3.2300e+00,\n",
       "        -3.2100e+00, -4.1200e+00, -4.5200e+00, -4.4100e+00, -3.1500e+00,\n",
       "        -2.2800e+00, -2.5200e+00, -3.3000e+00, -3.5200e+00, -2.7400e+00,\n",
       "        -2.3700e+00, -1.7500e+00, -6.4000e-01,  1.6600e+00,  1.2800e+00,\n",
       "         2.4000e+00,  2.3500e+00,  1.7000e+00,  1.1400e+00,  1.2300e+00,\n",
       "         1.2000e+00, -6.5000e-01, -1.3300e+00, -1.7800e+00, -1.9800e+00,\n",
       "        -2.1000e+00, -1.5200e+00, -1.1100e+00, -1.1700e+00, -7.8000e-01,\n",
       "         3.5000e-01, -8.4000e-01,  5.1000e-01, -8.2000e-01, -1.4900e+00,\n",
       "        -1.8900e+00, -2.1100e+00, -2.6800e+00, -2.3400e+00, -1.7400e+00,\n",
       "        -1.4100e+00, -1.3600e+00, -2.7400e+00, -3.1200e+00, -3.6700e+00,\n",
       "        -2.0400e+00, -1.8500e+00, -1.4300e+00, -8.3000e-01,  1.8000e+00,\n",
       "         8.1000e-01,  1.9400e+00,  1.9300e+00,  2.3100e+00,  3.0600e+00,\n",
       "         2.2800e+00,  1.9200e+00,  1.7800e+00,  1.2100e+00,  1.2200e+00,\n",
       "         1.5900e+00,  7.1000e-01,  5.5000e-01, -1.0000e-02,  3.2000e-01,\n",
       "        -8.4000e-01, -1.5700e+00, -2.0000e+00, -2.7600e+00, -2.9100e+00,\n",
       "        -2.9700e+00, -3.1000e+00, -3.5200e+00, -3.2800e+00, -2.9000e+00,\n",
       "        -3.2300e+00, -3.9000e+00, -4.0700e+00, -3.5100e+00, -3.0800e+00,\n",
       "        -3.0200e+00, -2.8500e+00, -2.3000e+00, -2.0700e+00, -9.9000e-01,\n",
       "        -8.1000e-01,  1.5400e+00,  1.6400e+00,  1.5600e+00,  9.9000e-01,\n",
       "         2.4600e+00,  2.4100e+00,  3.4900e+00,  2.3000e+00,  2.7200e+00,\n",
       "         2.4400e+00,  2.9300e+00,  2.3500e+00,  3.7900e+00,  4.1500e+00,\n",
       "         5.8100e+00,  6.6700e+00,  6.0900e+00,  5.6300e+00,  5.0700e+00,\n",
       "         4.6800e+00,  4.5600e+00,  4.1500e+00,  3.6600e+00,  3.7500e+00,\n",
       "         3.9300e+00,  3.7500e+00,  3.9700e+00,  3.6800e+00,  4.2000e+00,\n",
       "         3.8100e+00,  5.0900e+00,  4.0800e+00,  4.5900e+00,  4.6300e+00,\n",
       "         4.4300e+00,  3.3300e+00,  3.0200e+00,  2.9900e+00,  4.4200e+00,\n",
       "         5.8800e+00,  6.2700e+00,  6.4800e+00,  5.0100e+00,  4.2500e+00,\n",
       "         3.6300e+00,  3.3000e+00,  3.1900e+00,  2.7000e+00,  3.2400e+00,\n",
       "         3.5400e+00,  4.3900e+00,  3.5800e+00,  2.7800e+00,  1.4200e+00,\n",
       "        -2.6700e+00, -2.4700e+00, -2.1200e+00, -2.1600e+00, -1.6500e+00,\n",
       "        -2.2400e+00, -1.6200e+00, -1.7300e+00, -2.7600e+00, -4.1200e+00,\n",
       "        -4.6400e+00, -5.6000e+00, -4.9700e+00, -5.0700e+00, -4.6300e+00,\n",
       "        -4.1700e+00, -3.5200e+00, -2.6800e+00, -6.4000e-01,  3.9300e+00,\n",
       "         3.7900e+00,  2.7200e+00,  1.2900e+00, -2.6400e+00, -2.0700e+00,\n",
       "        -1.9100e+00, -2.1100e+00, -2.1800e+00, -1.8300e+00, -1.8000e+00,\n",
       "        -8.3000e-01, -7.3000e-01,  2.3100e+00,  2.0200e+00,  3.9800e+00,\n",
       "         4.3000e+00,  4.4300e+00,  4.0900e+00,  3.8300e+00,  3.7600e+00,\n",
       "         3.4200e+00,  1.9800e+00,  1.2000e+00,  1.3900e+00,  2.4600e+00,\n",
       "         3.4200e+00,  3.6800e+00,  4.0000e+00,  3.3600e+00,  3.8300e+00,\n",
       "         4.6600e+00,  4.3300e+00,  4.0200e+00,  3.4600e+00,  2.8400e+00,\n",
       "         2.4800e+00,  1.6500e+00,  1.7600e+00,  2.4600e+00,  2.6300e+00,\n",
       "         2.5700e+00,  2.0200e+00,  1.9100e+00,  2.3000e+00,  1.8200e+00,\n",
       "         1.4400e+00,  1.8900e+00,  2.0000e+00,  2.0600e+00,  1.7600e+00,\n",
       "         1.5100e+00, -1.1000e+00,  1.4400e+00,  8.8000e-01, -3.0000e-01,\n",
       "        -9.0000e-01,  5.0000e-01, -2.0000e-01, -6.0000e-01,  3.0000e-01,\n",
       "         1.4000e+00,  1.3000e+00,  2.0000e+00,  3.5000e+00,  4.6000e+00,\n",
       "         4.6000e+00,  5.2000e+00,  5.3000e+00,  6.0000e+00,  5.5000e+00,\n",
       "         5.0000e+00,  6.0000e+00,  5.5000e+00,  4.6000e+00,  3.2000e+00,\n",
       "         3.5000e+00,  4.7000e+00,  5.1000e+00,  4.7000e+00,  4.8000e+00])"
      ]
     },
     "execution_count": 43,
     "metadata": {},
     "output_type": "execute_result"
    }
   ],
   "source": [
    "torch_data[:, 0, 12, 50]"
   ]
  },
  {
   "cell_type": "code",
   "execution_count": 45,
   "id": "6aee580a",
   "metadata": {},
   "outputs": [
    {
     "name": "stdout",
     "output_type": "stream",
     "text": [
      "(720,)\n",
      ">expected=-1.8, predicted=-2.1\n",
      ">expected=-1.8, predicted=-1.8\n",
      ">expected=-0.8, predicted=-1.9\n",
      ">expected=-0.7, predicted=0.3\n",
      ">expected=2.3, predicted=1.0\n",
      ">expected=2.0, predicted=2.5\n",
      ">expected=4.0, predicted=2.6\n",
      ">expected=4.3, predicted=3.9\n",
      ">expected=4.4, predicted=4.1\n",
      ">expected=4.1, predicted=4.0\n",
      ">expected=3.8, predicted=4.6\n",
      ">expected=3.8, predicted=3.4\n",
      ">expected=3.4, predicted=3.8\n",
      ">expected=2.0, predicted=3.3\n",
      ">expected=1.2, predicted=2.0\n",
      ">expected=1.4, predicted=-1.6\n",
      ">expected=2.5, predicted=1.1\n",
      ">expected=3.4, predicted=2.7\n",
      ">expected=3.7, predicted=2.9\n",
      ">expected=4.0, predicted=3.5\n",
      ">expected=3.4, predicted=4.0\n",
      ">expected=3.8, predicted=3.1\n",
      ">expected=4.7, predicted=3.7\n",
      ">expected=4.3, predicted=4.4\n",
      ">expected=4.0, predicted=4.3\n",
      ">expected=3.5, predicted=3.6\n",
      ">expected=2.8, predicted=3.2\n",
      ">expected=2.5, predicted=3.1\n",
      ">expected=1.6, predicted=2.9\n",
      ">expected=1.8, predicted=1.0\n",
      ">expected=2.5, predicted=1.1\n",
      ">expected=2.6, predicted=1.8\n",
      ">expected=2.6, predicted=2.4\n",
      ">expected=2.0, predicted=2.6\n",
      ">expected=1.9, predicted=2.3\n",
      ">expected=2.3, predicted=1.6\n",
      ">expected=1.8, predicted=2.0\n",
      ">expected=1.4, predicted=1.7\n",
      ">expected=1.9, predicted=0.9\n",
      ">expected=2.0, predicted=1.5\n",
      ">expected=2.1, predicted=1.8\n",
      ">expected=1.8, predicted=1.8\n",
      ">expected=1.5, predicted=2.2\n",
      ">expected=-1.1, predicted=1.2\n",
      ">expected=1.4, predicted=-1.7\n",
      ">expected=0.9, predicted=1.3\n",
      ">expected=-0.3, predicted=1.2\n",
      ">expected=-0.9, predicted=-0.9\n",
      ">expected=0.5, predicted=-0.4\n",
      ">expected=-0.2, predicted=-1.0\n",
      ">expected=-0.6, predicted=-0.6\n",
      ">expected=0.3, predicted=-0.6\n",
      ">expected=1.4, predicted=0.1\n",
      ">expected=1.3, predicted=2.1\n",
      ">expected=2.0, predicted=1.6\n",
      ">expected=3.5, predicted=2.2\n",
      ">expected=4.6, predicted=2.7\n",
      ">expected=4.6, predicted=3.9\n",
      ">expected=5.2, predicted=4.4\n",
      ">expected=5.3, predicted=4.3\n",
      ">expected=6.0, predicted=4.8\n",
      ">expected=5.5, predicted=6.5\n",
      ">expected=5.0, predicted=5.1\n",
      ">expected=6.0, predicted=4.4\n",
      ">expected=5.5, predicted=6.0\n",
      ">expected=4.6, predicted=5.2\n",
      ">expected=3.2, predicted=4.6\n",
      ">expected=3.5, predicted=3.1\n",
      ">expected=4.7, predicted=3.1\n",
      ">expected=5.1, predicted=3.7\n",
      ">expected=4.7, predicted=4.5\n",
      ">expected=4.8, predicted=4.1\n",
      "R2: 0.722\n"
     ]
    },
    {
     "data": {
      "image/png": "[encoded data removed]",
      "text/plain": [
       "<Figure size 432x288 with 1 Axes>"
      ]
     },
     "metadata": {
      "needs_background": "light"
     },
     "output_type": "display_data"
    }
   ],
   "source": [
    "from matplotlib import pyplot\n",
    "\n",
    "# load the dataset\n",
    "values = numpy_data[:, 12, 50]\n",
    "# transform the time series data into supervised learning\n",
    "data = series_to_supervised(values, n_in=1, n_out=6)\n",
    "# evaluate\n",
    "r2, y, yhat = walk_forward_validation(data, 72)\n",
    "print('R2: %.3f' % r2)\n",
    "# plot expected vs preducted\n",
    "pyplot.plot(y, label='Expected')\n",
    "pyplot.plot(yhat, label='Predicted')\n",
    "pyplot.legend()\n",
    "pyplot.show()"
   ]
  },
  {
   "cell_type": "code",
   "execution_count": 58,
   "id": "d6b0d122",
   "metadata": {},
   "outputs": [
    {
     "name": "stderr",
     "output_type": "stream",
     "text": [
      "  0%|                                                                                          | 0/100 [00:00<?, ?it/s]\n",
      "  0%|                                                                                           | 0/10 [00:00<?, ?it/s]\u001b[A\n",
      "\n",
      "  0%|                                                                                           | 0/10 [00:00<?, ?it/s]\u001b[A\u001b[A"
     ]
    },
    {
     "name": "stdout",
     "output_type": "stream",
     "text": [
      "(720,)\n"
     ]
    },
    {
     "name": "stderr",
     "output_type": "stream",
     "text": [
      "  1%|▊                                                                                 | 1/100 [00:27<45:26, 27.54s/it]\n",
      "\n",
      " 10%|████████▎                                                                          | 1/10 [00:27<04:07, 27.55s/it]\u001b[A\u001b[A"
     ]
    },
    {
     "name": "stdout",
     "output_type": "stream",
     "text": [
      "R2: 0.797\n",
      "0 0\n",
      "(720,)\n"
     ]
    },
    {
     "name": "stderr",
     "output_type": "stream",
     "text": [
      "  2%|█▋                                                                                | 2/100 [00:55<45:00, 27.55s/it]\n",
      "\n",
      " 20%|████████████████▌                                                                  | 2/10 [00:55<03:40, 27.55s/it]\u001b[A\u001b[A"
     ]
    },
    {
     "name": "stdout",
     "output_type": "stream",
     "text": [
      "R2: 0.863\n",
      "0 1\n",
      "(720,)\n"
     ]
    },
    {
     "name": "stderr",
     "output_type": "stream",
     "text": [
      "  3%|██▍                                                                               | 3/100 [01:21<43:25, 26.86s/it]\n",
      "\n",
      " 30%|████████████████████████▉                                                          | 3/10 [01:21<03:08, 26.86s/it]\u001b[A\u001b[A"
     ]
    },
    {
     "name": "stdout",
     "output_type": "stream",
     "text": [
      "R2: 0.838\n",
      "0 2\n",
      "(720,)\n"
     ]
    },
    {
     "name": "stderr",
     "output_type": "stream",
     "text": [
      "  4%|███▎                                                                              | 4/100 [01:51<45:13, 28.26s/it]\n",
      "\n",
      " 40%|█████████████████████████████████▏                                                 | 4/10 [01:51<02:49, 28.26s/it]\u001b[A\u001b[A"
     ]
    },
    {
     "name": "stdout",
     "output_type": "stream",
     "text": [
      "R2: 0.850\n",
      "0 3\n",
      "(720,)\n"
     ]
    },
    {
     "name": "stderr",
     "output_type": "stream",
     "text": [
      "  5%|████                                                                              | 5/100 [02:22<46:00, 29.05s/it]\n",
      "\n",
      " 50%|█████████████████████████████████████████▌                                         | 5/10 [02:22<02:25, 29.05s/it]\u001b[A\u001b[A"
     ]
    },
    {
     "name": "stdout",
     "output_type": "stream",
     "text": [
      "R2: 0.840\n",
      "0 4\n",
      "(720,)\n"
     ]
    },
    {
     "name": "stderr",
     "output_type": "stream",
     "text": [
      "  6%|████▉                                                                             | 6/100 [02:48<44:24, 28.34s/it]\n",
      "\n",
      " 60%|█████████████████████████████████████████████████▊                                 | 6/10 [02:48<01:53, 28.34s/it]\u001b[A\u001b[A"
     ]
    },
    {
     "name": "stdout",
     "output_type": "stream",
     "text": [
      "R2: 0.831\n",
      "0 5\n",
      "(720,)\n"
     ]
    },
    {
     "name": "stderr",
     "output_type": "stream",
     "text": [
      "  7%|█████▋                                                                            | 7/100 [03:17<43:54, 28.32s/it]\n",
      "\n",
      " 70%|██████████████████████████████████████████████████████████                         | 7/10 [03:17<01:24, 28.32s/it]\u001b[A\u001b[A"
     ]
    },
    {
     "name": "stdout",
     "output_type": "stream",
     "text": [
      "R2: 0.830\n",
      "0 6\n",
      "(720,)\n"
     ]
    },
    {
     "name": "stderr",
     "output_type": "stream",
     "text": [
      "  8%|██████▌                                                                           | 8/100 [03:45<43:32, 28.39s/it]\n",
      "\n",
      " 80%|██████████████████████████████████████████████████████████████████▍                | 8/10 [03:45<00:56, 28.39s/it]\u001b[A\u001b[A"
     ]
    },
    {
     "name": "stdout",
     "output_type": "stream",
     "text": [
      "R2: 0.839\n",
      "0 7\n",
      "(720,)\n"
     ]
    },
    {
     "name": "stderr",
     "output_type": "stream",
     "text": [
      "  9%|███████▍                                                                          | 9/100 [04:22<47:06, 31.06s/it]\n",
      "\n",
      " 90%|██████████████████████████████████████████████████████████████████████████▋        | 9/10 [04:22<00:31, 31.06s/it]\u001b[A\u001b[A"
     ]
    },
    {
     "name": "stdout",
     "output_type": "stream",
     "text": [
      "R2: 0.851\n",
      "0 8\n",
      "(720,)\n"
     ]
    },
    {
     "name": "stderr",
     "output_type": "stream",
     "text": [
      " 10%|████████                                                                         | 10/100 [04:51<45:45, 30.51s/it]\n",
      "\n",
      "100%|██████████████████████████████████████████████████████████████████████████████████| 10/10 [04:51<00:00, 29.20s/it]\u001b[A\u001b[A\n",
      "\n",
      " 10%|████████▏                                                                         | 1/10 [04:51<43:47, 292.00s/it]\u001b[A"
     ]
    },
    {
     "name": "stdout",
     "output_type": "stream",
     "text": [
      "R2: 0.835\n",
      "0 9\n"
     ]
    },
    {
     "name": "stderr",
     "output_type": "stream",
     "text": [
      "\n",
      "\n",
      "  0%|                                                                                           | 0/10 [00:00<?, ?it/s]\u001b[A\u001b[A"
     ]
    },
    {
     "name": "stdout",
     "output_type": "stream",
     "text": [
      "(720,)\n"
     ]
    },
    {
     "name": "stderr",
     "output_type": "stream",
     "text": [
      " 11%|████████▉                                                                        | 11/100 [05:19<43:48, 29.54s/it]\n",
      "\n",
      " 10%|████████▎                                                                          | 1/10 [00:27<04:06, 27.34s/it]\u001b[A\u001b[A"
     ]
    },
    {
     "name": "stdout",
     "output_type": "stream",
     "text": [
      "R2: 0.834\n",
      "1 0\n",
      "(720,)\n"
     ]
    },
    {
     "name": "stderr",
     "output_type": "stream",
     "text": [
      " 12%|█████████▋                                                                       | 12/100 [05:46<42:25, 28.93s/it]\n",
      "\n",
      " 20%|████████████████▌                                                                  | 2/10 [00:54<03:39, 27.45s/it]\u001b[A\u001b[A"
     ]
    },
    {
     "name": "stdout",
     "output_type": "stream",
     "text": [
      "R2: 0.873\n",
      "1 1\n",
      "(720,)\n"
     ]
    },
    {
     "name": "stderr",
     "output_type": "stream",
     "text": [
      " 13%|██████████▌                                                                      | 13/100 [06:19<43:23, 29.92s/it]\n",
      "\n",
      " 30%|████████████████████████▉                                                          | 3/10 [01:27<03:27, 29.62s/it]\u001b[A\u001b[A"
     ]
    },
    {
     "name": "stdout",
     "output_type": "stream",
     "text": [
      "R2: 0.851\n",
      "1 2\n",
      "(720,)\n"
     ]
    },
    {
     "name": "stderr",
     "output_type": "stream",
     "text": [
      " 14%|███████████▎                                                                     | 14/100 [06:48<42:32, 29.68s/it]\n",
      "\n",
      " 40%|█████████████████████████████████▏                                                 | 4/10 [01:56<02:56, 29.42s/it]\u001b[A\u001b[A"
     ]
    },
    {
     "name": "stdout",
     "output_type": "stream",
     "text": [
      "R2: 0.847\n",
      "1 3\n",
      "(720,)\n"
     ]
    },
    {
     "name": "stderr",
     "output_type": "stream",
     "text": [
      " 15%|████████████▏                                                                    | 15/100 [07:17<41:43, 29.45s/it]\n",
      "\n",
      " 50%|█████████████████████████████████████████▌                                         | 5/10 [02:25<02:26, 29.24s/it]\u001b[A\u001b[A"
     ]
    },
    {
     "name": "stdout",
     "output_type": "stream",
     "text": [
      "R2: 0.884\n",
      "1 4\n",
      "(720,)\n"
     ]
    },
    {
     "name": "stderr",
     "output_type": "stream",
     "text": [
      " 16%|████████████▉                                                                    | 16/100 [07:52<43:33, 31.11s/it]\n",
      "\n",
      " 60%|█████████████████████████████████████████████████▊                                 | 6/10 [03:00<02:04, 31.19s/it]\u001b[A\u001b[A"
     ]
    },
    {
     "name": "stdout",
     "output_type": "stream",
     "text": [
      "R2: 0.807\n",
      "1 5\n",
      "(720,)\n"
     ]
    },
    {
     "name": "stderr",
     "output_type": "stream",
     "text": [
      " 17%|█████████████▊                                                                   | 17/100 [08:21<42:09, 30.48s/it]\n",
      "\n",
      " 70%|██████████████████████████████████████████████████████████                         | 7/10 [03:29<01:31, 30.47s/it]\u001b[A\u001b[A"
     ]
    },
    {
     "name": "stdout",
     "output_type": "stream",
     "text": [
      "R2: 0.821\n",
      "1 6\n",
      "(720,)\n"
     ]
    },
    {
     "name": "stderr",
     "output_type": "stream",
     "text": [
      " 18%|██████████████▌                                                                  | 18/100 [08:50<41:07, 30.09s/it]\n",
      "\n",
      " 80%|██████████████████████████████████████████████████████████████████▍                | 8/10 [03:58<01:00, 30.06s/it]\u001b[A\u001b[A"
     ]
    },
    {
     "name": "stdout",
     "output_type": "stream",
     "text": [
      "R2: 0.828\n",
      "1 7\n",
      "(720,)\n"
     ]
    },
    {
     "name": "stderr",
     "output_type": "stream",
     "text": [
      " 19%|███████████████▍                                                                 | 19/100 [09:16<38:54, 28.82s/it]\n",
      "\n",
      " 90%|██████████████████████████████████████████████████████████████████████████▋        | 9/10 [04:24<00:28, 28.75s/it]\u001b[A\u001b[A"
     ]
    },
    {
     "name": "stdout",
     "output_type": "stream",
     "text": [
      "R2: 0.813\n",
      "1 8\n",
      "(720,)\n"
     ]
    },
    {
     "name": "stderr",
     "output_type": "stream",
     "text": [
      " 20%|████████████████▏                                                                | 20/100 [09:43<37:54, 28.43s/it]\n",
      "\n",
      "100%|██████████████████████████████████████████████████████████████████████████████████| 10/10 [04:51<00:00, 29.16s/it]\u001b[A\u001b[A\n",
      "\n",
      " 20%|████████████████▍                                                                 | 2/10 [09:43<38:54, 291.79s/it]\u001b[A"
     ]
    },
    {
     "name": "stdout",
     "output_type": "stream",
     "text": [
      "R2: 0.791\n",
      "1 9\n"
     ]
    },
    {
     "name": "stderr",
     "output_type": "stream",
     "text": [
      "\n",
      "\n",
      "  0%|                                                                                           | 0/10 [00:00<?, ?it/s]\u001b[A\u001b[A"
     ]
    },
    {
     "name": "stdout",
     "output_type": "stream",
     "text": [
      "(720,)\n"
     ]
    },
    {
     "name": "stderr",
     "output_type": "stream",
     "text": [
      " 21%|█████████████████                                                                | 21/100 [10:12<37:45, 28.67s/it]\n",
      "\n",
      " 10%|████████▎                                                                          | 1/10 [00:29<04:23, 29.23s/it]\u001b[A\u001b[A"
     ]
    },
    {
     "name": "stdout",
     "output_type": "stream",
     "text": [
      "R2: 0.832\n",
      "2 0\n",
      "(720,)\n"
     ]
    },
    {
     "name": "stderr",
     "output_type": "stream",
     "text": [
      " 22%|█████████████████▊                                                               | 22/100 [10:41<37:14, 28.65s/it]\n",
      "\n",
      " 20%|████████████████▌                                                                  | 2/10 [00:57<03:50, 28.85s/it]\u001b[A\u001b[A"
     ]
    },
    {
     "name": "stdout",
     "output_type": "stream",
     "text": [
      "R2: 0.815\n",
      "2 1\n",
      "(720,)\n"
     ]
    },
    {
     "name": "stderr",
     "output_type": "stream",
     "text": [
      " 23%|██████████████████▋                                                              | 23/100 [11:16<39:14, 30.58s/it]\n",
      "\n",
      " 30%|████████████████████████▉                                                          | 3/10 [01:32<03:41, 31.70s/it]\u001b[A\u001b[A"
     ]
    },
    {
     "name": "stdout",
     "output_type": "stream",
     "text": [
      "R2: 0.869\n",
      "2 2\n",
      "(720,)\n"
     ]
    },
    {
     "name": "stderr",
     "output_type": "stream",
     "text": [
      " 24%|███████████████████▍                                                             | 24/100 [11:58<43:06, 34.04s/it]\n",
      "\n",
      " 40%|█████████████████████████████████▏                                                 | 4/10 [02:15<03:34, 35.81s/it]\u001b[A\u001b[A"
     ]
    },
    {
     "name": "stdout",
     "output_type": "stream",
     "text": [
      "R2: 0.872\n",
      "2 3\n",
      "(720,)\n"
     ]
    },
    {
     "name": "stderr",
     "output_type": "stream",
     "text": [
      " 25%|████████████████████▎                                                            | 25/100 [12:38<44:32, 35.63s/it]\n",
      "\n",
      " 50%|█████████████████████████████████████████▌                                         | 5/10 [02:54<03:05, 37.08s/it]\u001b[A\u001b[A"
     ]
    },
    {
     "name": "stdout",
     "output_type": "stream",
     "text": [
      "R2: 0.851\n",
      "2 4\n",
      "(720,)\n"
     ]
    },
    {
     "name": "stderr",
     "output_type": "stream",
     "text": [
      " 26%|█████████████████████                                                            | 26/100 [13:15<44:43, 36.26s/it]\n",
      "\n",
      " 60%|█████████████████████████████████████████████████▊                                 | 6/10 [03:32<02:29, 37.30s/it]\u001b[A\u001b[A"
     ]
    },
    {
     "name": "stdout",
     "output_type": "stream",
     "text": [
      "R2: 0.809\n",
      "2 5\n",
      "(720,)\n"
     ]
    },
    {
     "name": "stderr",
     "output_type": "stream",
     "text": [
      " 27%|█████████████████████▊                                                           | 27/100 [13:46<42:00, 34.53s/it]\n",
      "\n",
      " 70%|██████████████████████████████████████████████████████████                         | 7/10 [04:02<01:45, 35.07s/it]\u001b[A\u001b[A"
     ]
    },
    {
     "name": "stdout",
     "output_type": "stream",
     "text": [
      "R2: 0.867\n",
      "2 6\n",
      "(720,)\n"
     ]
    },
    {
     "name": "stderr",
     "output_type": "stream",
     "text": [
      " 28%|██████████████████████▋                                                          | 28/100 [14:15<39:36, 33.01s/it]\n",
      "\n",
      " 80%|██████████████████████████████████████████████████████████████████▍                | 8/10 [04:32<01:06, 33.29s/it]\u001b[A\u001b[A"
     ]
    },
    {
     "name": "stdout",
     "output_type": "stream",
     "text": [
      "R2: 0.800\n",
      "2 7\n",
      "(720,)\n"
     ]
    },
    {
     "name": "stderr",
     "output_type": "stream",
     "text": [
      " 29%|███████████████████████▍                                                         | 29/100 [14:47<38:42, 32.71s/it]\n",
      "\n",
      " 90%|██████████████████████████████████████████████████████████████████████████▋        | 9/10 [05:04<00:32, 32.89s/it]\u001b[A\u001b[A"
     ]
    },
    {
     "name": "stdout",
     "output_type": "stream",
     "text": [
      "R2: 0.837\n",
      "2 8\n",
      "(720,)\n"
     ]
    },
    {
     "name": "stderr",
     "output_type": "stream",
     "text": [
      " 30%|████████████████████████▎                                                        | 30/100 [15:23<39:23, 33.77s/it]\n",
      "\n",
      "100%|██████████████████████████████████████████████████████████████████████████████████| 10/10 [05:40<00:00, 34.03s/it]\u001b[A\u001b[A\n",
      "\n",
      " 30%|████████████████████████▌                                                         | 3/10 [15:23<36:37, 313.94s/it]\u001b[A"
     ]
    },
    {
     "name": "stdout",
     "output_type": "stream",
     "text": [
      "R2: 0.834\n",
      "2 9\n"
     ]
    },
    {
     "name": "stderr",
     "output_type": "stream",
     "text": [
      "\n",
      "\n",
      "  0%|                                                                                           | 0/10 [00:00<?, ?it/s]\u001b[A\u001b[A"
     ]
    },
    {
     "name": "stdout",
     "output_type": "stream",
     "text": [
      "(720,)\n"
     ]
    },
    {
     "name": "stderr",
     "output_type": "stream",
     "text": [
      " 31%|█████████████████████████                                                        | 31/100 [15:59<39:17, 34.16s/it]\n",
      "\n",
      " 10%|████████▎                                                                          | 1/10 [00:35<05:15, 35.07s/it]\u001b[A\u001b[A"
     ]
    },
    {
     "name": "stdout",
     "output_type": "stream",
     "text": [
      "R2: 0.828\n",
      "3 0\n",
      "(720,)\n"
     ]
    },
    {
     "name": "stderr",
     "output_type": "stream",
     "text": [
      " 32%|█████████████████████████▉                                                       | 32/100 [16:30<37:47, 33.35s/it]\n",
      "\n",
      " 20%|████████████████▌                                                                  | 2/10 [01:06<04:23, 32.94s/it]\u001b[A\u001b[A"
     ]
    },
    {
     "name": "stdout",
     "output_type": "stream",
     "text": [
      "R2: 0.828\n",
      "3 1\n",
      "(720,)\n"
     ]
    },
    {
     "name": "stderr",
     "output_type": "stream",
     "text": [
      " 33%|██████████████████████████▋                                                      | 33/100 [17:02<36:38, 32.81s/it]\n",
      "\n",
      " 30%|████████████████████████▉                                                          | 3/10 [01:38<03:46, 32.31s/it]\u001b[A\u001b[A"
     ]
    },
    {
     "name": "stdout",
     "output_type": "stream",
     "text": [
      "R2: 0.865\n",
      "3 2\n",
      "(720,)\n"
     ]
    },
    {
     "name": "stderr",
     "output_type": "stream",
     "text": [
      " 34%|███████████████████████████▌                                                     | 34/100 [17:30<34:40, 31.52s/it]\n",
      "\n",
      " 40%|█████████████████████████████████▏                                                 | 4/10 [02:06<03:04, 30.81s/it]\u001b[A\u001b[A"
     ]
    },
    {
     "name": "stdout",
     "output_type": "stream",
     "text": [
      "R2: 0.876\n",
      "3 3\n",
      "(720,)\n"
     ]
    },
    {
     "name": "stderr",
     "output_type": "stream",
     "text": [
      " 35%|████████████████████████████▎                                                    | 35/100 [17:59<33:16, 30.72s/it]\n",
      "\n",
      " 50%|█████████████████████████████████████████▌                                         | 5/10 [02:35<02:30, 30.10s/it]\u001b[A\u001b[A"
     ]
    },
    {
     "name": "stdout",
     "output_type": "stream",
     "text": [
      "R2: 0.831\n",
      "3 4\n",
      "(720,)\n"
     ]
    },
    {
     "name": "stderr",
     "output_type": "stream",
     "text": [
      " 36%|█████████████████████████████▏                                                   | 36/100 [18:30<32:51, 30.80s/it]\n",
      "\n",
      " 60%|█████████████████████████████████████████████████▊                                 | 6/10 [03:06<02:01, 30.41s/it]\u001b[A\u001b[A"
     ]
    },
    {
     "name": "stdout",
     "output_type": "stream",
     "text": [
      "R2: 0.826\n",
      "3 5\n",
      "(720,)\n"
     ]
    },
    {
     "name": "stderr",
     "output_type": "stream",
     "text": [
      " 37%|█████████████████████████████▉                                                   | 37/100 [19:06<34:02, 32.41s/it]\n",
      "\n",
      " 70%|██████████████████████████████████████████████████████████                         | 7/10 [03:42<01:36, 32.29s/it]\u001b[A\u001b[A"
     ]
    },
    {
     "name": "stdout",
     "output_type": "stream",
     "text": [
      "R2: 0.794\n",
      "3 6\n",
      "(720,)\n"
     ]
    },
    {
     "name": "stderr",
     "output_type": "stream",
     "text": [
      " 38%|██████████████████████████████▊                                                  | 38/100 [19:39<33:42, 32.62s/it]\n",
      "\n",
      " 80%|██████████████████████████████████████████████████████████████████▍                | 8/10 [04:15<01:05, 32.55s/it]\u001b[A\u001b[A"
     ]
    },
    {
     "name": "stdout",
     "output_type": "stream",
     "text": [
      "R2: 0.813\n",
      "3 7\n",
      "(720,)\n"
     ]
    },
    {
     "name": "stderr",
     "output_type": "stream",
     "text": [
      " 39%|███████████████████████████████▌                                                 | 39/100 [20:13<33:28, 32.93s/it]\n",
      "\n",
      " 90%|██████████████████████████████████████████████████████████████████████████▋        | 9/10 [04:49<00:32, 32.90s/it]\u001b[A\u001b[A"
     ]
    },
    {
     "name": "stdout",
     "output_type": "stream",
     "text": [
      "R2: 0.816\n",
      "3 8\n",
      "(720,)\n"
     ]
    },
    {
     "name": "stderr",
     "output_type": "stream",
     "text": [
      " 40%|████████████████████████████████▍                                                | 40/100 [20:43<32:06, 32.12s/it]\n",
      "\n",
      "100%|██████████████████████████████████████████████████████████████████████████████████| 10/10 [05:19<00:00, 31.96s/it]\u001b[A\u001b[A\n",
      "\n",
      " 40%|████████████████████████████████▊                                                 | 4/10 [20:43<31:37, 316.18s/it]\u001b[A"
     ]
    },
    {
     "name": "stdout",
     "output_type": "stream",
     "text": [
      "R2: 0.865\n",
      "3 9\n"
     ]
    },
    {
     "name": "stderr",
     "output_type": "stream",
     "text": [
      "\n",
      "\n",
      "  0%|                                                                                           | 0/10 [00:00<?, ?it/s]\u001b[A\u001b[A"
     ]
    },
    {
     "name": "stdout",
     "output_type": "stream",
     "text": [
      "(720,)\n"
     ]
    },
    {
     "name": "stderr",
     "output_type": "stream",
     "text": [
      " 41%|█████████████████████████████████▏                                               | 41/100 [21:13<30:52, 31.41s/it]\n",
      "\n",
      " 10%|████████▎                                                                          | 1/10 [00:29<04:27, 29.71s/it]\u001b[A\u001b[A"
     ]
    },
    {
     "name": "stdout",
     "output_type": "stream",
     "text": [
      "R2: 0.892\n",
      "4 0\n",
      "(720,)\n"
     ]
    },
    {
     "name": "stderr",
     "output_type": "stream",
     "text": [
      " 42%|██████████████████████████████████                                               | 42/100 [21:41<29:24, 30.43s/it]\n",
      "\n",
      " 20%|████████████████▌                                                                  | 2/10 [00:57<03:50, 28.79s/it]\u001b[A\u001b[A"
     ]
    },
    {
     "name": "stdout",
     "output_type": "stream",
     "text": [
      "R2: 0.875\n",
      "4 1\n",
      "(720,)\n"
     ]
    },
    {
     "name": "stderr",
     "output_type": "stream",
     "text": [
      " 43%|██████████████████████████████████▊                                              | 43/100 [22:23<32:07, 33.82s/it]\n",
      "\n",
      " 30%|████████████████████████▉                                                          | 3/10 [01:39<04:02, 34.70s/it]\u001b[A\u001b[A"
     ]
    },
    {
     "name": "stdout",
     "output_type": "stream",
     "text": [
      "R2: 0.887\n",
      "4 2\n",
      "(720,)\n"
     ]
    },
    {
     "name": "stderr",
     "output_type": "stream",
     "text": [
      " 44%|███████████████████████████████████▋                                             | 44/100 [23:02<33:14, 35.61s/it]\n",
      "\n",
      " 40%|█████████████████████████████████▏                                                 | 4/10 [02:19<03:40, 36.71s/it]\u001b[A\u001b[A"
     ]
    },
    {
     "name": "stdout",
     "output_type": "stream",
     "text": [
      "R2: 0.862\n",
      "4 3\n",
      "(720,)\n"
     ]
    },
    {
     "name": "stderr",
     "output_type": "stream",
     "text": [
      " 45%|████████████████████████████████████▍                                            | 45/100 [23:37<32:25, 35.37s/it]\n",
      "\n",
      " 50%|█████████████████████████████████████████▌                                         | 5/10 [02:54<03:00, 36.02s/it]\u001b[A\u001b[A"
     ]
    },
    {
     "name": "stdout",
     "output_type": "stream",
     "text": [
      "R2: 0.831\n",
      "4 4\n",
      "(720,)\n"
     ]
    },
    {
     "name": "stderr",
     "output_type": "stream",
     "text": [
      " 46%|█████████████████████████████████████▎                                           | 46/100 [24:09<30:53, 34.33s/it]\n",
      "\n",
      " 60%|█████████████████████████████████████████████████▊                                 | 6/10 [03:26<02:18, 34.62s/it]\u001b[A\u001b[A"
     ]
    },
    {
     "name": "stdout",
     "output_type": "stream",
     "text": [
      "R2: 0.833\n",
      "4 5\n",
      "(720,)\n"
     ]
    },
    {
     "name": "stderr",
     "output_type": "stream",
     "text": [
      " 47%|██████████████████████████████████████                                           | 47/100 [24:37<28:39, 32.44s/it]\n",
      "\n",
      " 70%|██████████████████████████████████████████████████████████                         | 7/10 [03:54<01:37, 32.47s/it]\u001b[A\u001b[A"
     ]
    },
    {
     "name": "stdout",
     "output_type": "stream",
     "text": [
      "R2: 0.845\n",
      "4 6\n",
      "(720,)\n"
     ]
    },
    {
     "name": "stderr",
     "output_type": "stream",
     "text": [
      " 48%|██████████████████████████████████████▉                                          | 48/100 [25:08<27:43, 32.00s/it]\n",
      "\n",
      " 80%|██████████████████████████████████████████████████████████████████▍                | 8/10 [04:25<01:04, 32.00s/it]\u001b[A\u001b[A"
     ]
    },
    {
     "name": "stdout",
     "output_type": "stream",
     "text": [
      "R2: 0.855\n",
      "4 7\n",
      "(720,)\n"
     ]
    },
    {
     "name": "stderr",
     "output_type": "stream",
     "text": [
      " 49%|███████████████████████████████████████▋                                         | 49/100 [25:42<27:38, 32.51s/it]\n",
      "\n",
      " 90%|██████████████████████████████████████████████████████████████████████████▋        | 9/10 [04:58<00:32, 32.52s/it]\u001b[A\u001b[A"
     ]
    },
    {
     "name": "stdout",
     "output_type": "stream",
     "text": [
      "R2: 0.833\n",
      "4 8\n",
      "(720,)\n"
     ]
    },
    {
     "name": "stderr",
     "output_type": "stream",
     "text": [
      " 50%|████████████████████████████████████████▌                                        | 50/100 [26:10<26:04, 31.29s/it]\n",
      "\n",
      "100%|██████████████████████████████████████████████████████████████████████████████████| 10/10 [05:27<00:00, 32.72s/it]\u001b[A\u001b[A\n",
      "\n",
      " 50%|█████████████████████████████████████████                                         | 5/10 [26:10<26:40, 320.17s/it]\u001b[A"
     ]
    },
    {
     "name": "stdout",
     "output_type": "stream",
     "text": [
      "R2: 0.824\n",
      "4 9\n"
     ]
    },
    {
     "name": "stderr",
     "output_type": "stream",
     "text": [
      "\n",
      "\n",
      "  0%|                                                                                           | 0/10 [00:00<?, ?it/s]\u001b[A\u001b[A"
     ]
    },
    {
     "name": "stdout",
     "output_type": "stream",
     "text": [
      "(720,)\n"
     ]
    },
    {
     "name": "stderr",
     "output_type": "stream",
     "text": [
      " 51%|█████████████████████████████████████████▎                                       | 51/100 [26:40<25:03, 30.69s/it]\n",
      "\n",
      " 10%|████████▎                                                                          | 1/10 [00:29<04:23, 29.30s/it]\u001b[A\u001b[A"
     ]
    },
    {
     "name": "stdout",
     "output_type": "stream",
     "text": [
      "R2: 0.872\n",
      "5 0\n",
      "(720,)\n"
     ]
    },
    {
     "name": "stderr",
     "output_type": "stream",
     "text": [
      " 52%|██████████████████████████████████████████                                       | 52/100 [27:08<24:04, 30.10s/it]\n",
      "\n",
      " 20%|████████████████▌                                                                  | 2/10 [00:58<03:51, 28.95s/it]\u001b[A\u001b[A"
     ]
    },
    {
     "name": "stdout",
     "output_type": "stream",
     "text": [
      "R2: 0.896\n",
      "5 1\n",
      "(720,)\n"
     ]
    },
    {
     "name": "stderr",
     "output_type": "stream",
     "text": [
      " 53%|██████████████████████████████████████████▉                                      | 53/100 [27:34<22:28, 28.70s/it]\n",
      "\n",
      " 30%|████████████████████████▉                                                          | 3/10 [01:23<03:11, 27.35s/it]\u001b[A\u001b[A"
     ]
    },
    {
     "name": "stdout",
     "output_type": "stream",
     "text": [
      "R2: 0.852\n",
      "5 2\n",
      "(720,)\n"
     ]
    },
    {
     "name": "stderr",
     "output_type": "stream",
     "text": [
      " 54%|███████████████████████████████████████████▋                                     | 54/100 [27:59<21:17, 27.78s/it]\n",
      "\n",
      " 40%|█████████████████████████████████▏                                                 | 4/10 [01:49<02:40, 26.67s/it]\u001b[A\u001b[A"
     ]
    },
    {
     "name": "stdout",
     "output_type": "stream",
     "text": [
      "R2: 0.835\n",
      "5 3\n",
      "(720,)\n"
     ]
    },
    {
     "name": "stderr",
     "output_type": "stream",
     "text": [
      " 55%|████████████████████████████████████████████▌                                    | 55/100 [28:26<20:34, 27.44s/it]\n",
      "\n",
      " 50%|█████████████████████████████████████████▌                                         | 5/10 [02:15<02:13, 26.66s/it]\u001b[A\u001b[A"
     ]
    },
    {
     "name": "stdout",
     "output_type": "stream",
     "text": [
      "R2: 0.841\n",
      "5 4\n",
      "(720,)\n"
     ]
    },
    {
     "name": "stderr",
     "output_type": "stream",
     "text": [
      " 56%|█████████████████████████████████████████████▎                                   | 56/100 [28:56<20:46, 28.32s/it]\n",
      "\n",
      " 60%|█████████████████████████████████████████████████▊                                 | 6/10 [02:46<01:51, 27.93s/it]\u001b[A\u001b[A"
     ]
    },
    {
     "name": "stdout",
     "output_type": "stream",
     "text": [
      "R2: 0.808\n",
      "5 5\n",
      "(720,)\n"
     ]
    },
    {
     "name": "stderr",
     "output_type": "stream",
     "text": [
      " 57%|██████████████████████████████████████████████▏                                  | 57/100 [29:24<20:05, 28.03s/it]\n",
      "\n",
      " 70%|██████████████████████████████████████████████████████████                         | 7/10 [03:13<01:23, 27.74s/it]\u001b[A\u001b[A"
     ]
    },
    {
     "name": "stdout",
     "output_type": "stream",
     "text": [
      "R2: 0.801\n",
      "5 6\n",
      "(720,)\n"
     ]
    },
    {
     "name": "stderr",
     "output_type": "stream",
     "text": [
      " 58%|██████████████████████████████████████████████▉                                  | 58/100 [29:49<19:00, 27.15s/it]\n",
      "\n",
      " 80%|██████████████████████████████████████████████████████████████████▍                | 8/10 [03:38<00:53, 26.89s/it]\u001b[A\u001b[A"
     ]
    },
    {
     "name": "stdout",
     "output_type": "stream",
     "text": [
      "R2: 0.850\n",
      "5 7\n",
      "(720,)\n"
     ]
    },
    {
     "name": "stderr",
     "output_type": "stream",
     "text": [
      " 59%|███████████████████████████████████████████████▊                                 | 59/100 [30:13<17:58, 26.30s/it]\n",
      "\n",
      " 90%|██████████████████████████████████████████████████████████████████████████▋        | 9/10 [04:02<00:26, 26.09s/it]\u001b[A\u001b[A"
     ]
    },
    {
     "name": "stdout",
     "output_type": "stream",
     "text": [
      "R2: 0.798\n",
      "5 8\n",
      "(720,)\n"
     ]
    },
    {
     "name": "stderr",
     "output_type": "stream",
     "text": [
      " 60%|████████████████████████████████████████████████▌                                | 60/100 [30:37<17:07, 25.69s/it]\n",
      "\n",
      "100%|██████████████████████████████████████████████████████████████████████████████████| 10/10 [04:27<00:00, 26.71s/it]\u001b[A\u001b[A\n",
      "\n",
      " 60%|█████████████████████████████████████████████████▏                                | 6/10 [30:37<20:08, 302.14s/it]\u001b[A"
     ]
    },
    {
     "name": "stdout",
     "output_type": "stream",
     "text": [
      "R2: 0.833\n",
      "5 9\n"
     ]
    },
    {
     "name": "stderr",
     "output_type": "stream",
     "text": [
      "\n",
      "\n",
      "  0%|                                                                                           | 0/10 [00:00<?, ?it/s]\u001b[A\u001b[A"
     ]
    },
    {
     "name": "stdout",
     "output_type": "stream",
     "text": [
      "(720,)\n"
     ]
    },
    {
     "name": "stderr",
     "output_type": "stream",
     "text": [
      " 61%|█████████████████████████████████████████████████▍                               | 61/100 [31:04<16:57, 26.09s/it]\n",
      "\n",
      " 10%|████████▎                                                                          | 1/10 [00:27<04:03, 27.02s/it]\u001b[A\u001b[A"
     ]
    },
    {
     "name": "stdout",
     "output_type": "stream",
     "text": [
      "R2: 0.854\n",
      "6 0\n",
      "(720,)\n"
     ]
    },
    {
     "name": "stderr",
     "output_type": "stream",
     "text": [
      " 62%|██████████████████████████████████████████████████▏                              | 62/100 [31:33<17:00, 26.84s/it]\n",
      "\n",
      " 20%|████████████████▌                                                                  | 2/10 [00:55<03:43, 27.95s/it]\u001b[A\u001b[A"
     ]
    },
    {
     "name": "stdout",
     "output_type": "stream",
     "text": [
      "R2: 0.818\n",
      "6 1\n",
      "(720,)\n"
     ]
    },
    {
     "name": "stderr",
     "output_type": "stream",
     "text": [
      " 63%|███████████████████████████████████████████████████                              | 63/100 [32:03<17:06, 27.75s/it]\n",
      "\n",
      " 30%|████████████████████████▉                                                          | 3/10 [01:25<03:21, 28.83s/it]\u001b[A\u001b[A"
     ]
    },
    {
     "name": "stdout",
     "output_type": "stream",
     "text": [
      "R2: 0.857\n",
      "6 2\n",
      "(720,)\n"
     ]
    },
    {
     "name": "stderr",
     "output_type": "stream",
     "text": [
      " 64%|███████████████████████████████████████████████████▊                             | 64/100 [32:34<17:17, 28.82s/it]\n",
      "\n",
      " 40%|█████████████████████████████████▏                                                 | 4/10 [01:56<02:58, 29.81s/it]\u001b[A\u001b[A"
     ]
    },
    {
     "name": "stdout",
     "output_type": "stream",
     "text": [
      "R2: 0.837\n",
      "6 3\n",
      "(720,)\n"
     ]
    },
    {
     "name": "stderr",
     "output_type": "stream",
     "text": [
      " 65%|████████████████████████████████████████████████████▋                            | 65/100 [33:04<16:59, 29.12s/it]\n",
      "\n",
      " 50%|█████████████████████████████████████████▌                                         | 5/10 [02:26<02:29, 29.81s/it]\u001b[A\u001b[A"
     ]
    },
    {
     "name": "stdout",
     "output_type": "stream",
     "text": [
      "R2: 0.813\n",
      "6 4\n",
      "(720,)\n"
     ]
    },
    {
     "name": "stderr",
     "output_type": "stream",
     "text": [
      " 66%|█████████████████████████████████████████████████████▍                           | 66/100 [33:31<16:09, 28.52s/it]\n",
      "\n",
      " 60%|█████████████████████████████████████████████████▊                                 | 6/10 [02:53<01:55, 28.89s/it]\u001b[A\u001b[A"
     ]
    },
    {
     "name": "stdout",
     "output_type": "stream",
     "text": [
      "R2: 0.818\n",
      "6 5\n",
      "(720,)\n"
     ]
    },
    {
     "name": "stderr",
     "output_type": "stream",
     "text": [
      " 67%|██████████████████████████████████████████████████████▎                          | 67/100 [34:08<17:04, 31.04s/it]\n",
      "\n",
      " 70%|██████████████████████████████████████████████████████████                         | 7/10 [03:30<01:34, 31.52s/it]\u001b[A\u001b[A"
     ]
    },
    {
     "name": "stdout",
     "output_type": "stream",
     "text": [
      "R2: 0.805\n",
      "6 6\n",
      "(720,)\n"
     ]
    },
    {
     "name": "stderr",
     "output_type": "stream",
     "text": [
      " 68%|███████████████████████████████████████████████████████                          | 68/100 [34:42<16:59, 31.85s/it]\n",
      "\n",
      " 80%|██████████████████████████████████████████████████████████████████▍                | 8/10 [04:04<01:04, 32.22s/it]\u001b[A\u001b[A"
     ]
    },
    {
     "name": "stdout",
     "output_type": "stream",
     "text": [
      "R2: 0.806\n",
      "6 7\n",
      "(720,)\n"
     ]
    },
    {
     "name": "stderr",
     "output_type": "stream",
     "text": [
      " 69%|███████████████████████████████████████████████████████▉                         | 69/100 [35:14<16:26, 31.83s/it]\n",
      "\n",
      " 90%|██████████████████████████████████████████████████████████████████████████▋        | 9/10 [04:36<00:32, 32.09s/it]\u001b[A\u001b[A"
     ]
    },
    {
     "name": "stdout",
     "output_type": "stream",
     "text": [
      "R2: 0.804\n",
      "6 8\n",
      "(720,)\n"
     ]
    },
    {
     "name": "stderr",
     "output_type": "stream",
     "text": [
      " 70%|████████████████████████████████████████████████████████▋                        | 70/100 [35:43<15:34, 31.14s/it]\n",
      "\n",
      "100%|██████████████████████████████████████████████████████████████████████████████████| 10/10 [05:05<00:00, 30.57s/it]\u001b[A\u001b[A\n",
      "\n",
      " 70%|█████████████████████████████████████████████████████████▍                        | 7/10 [35:43<15:09, 303.31s/it]\u001b[A"
     ]
    },
    {
     "name": "stdout",
     "output_type": "stream",
     "text": [
      "R2: 0.812\n",
      "6 9\n"
     ]
    },
    {
     "name": "stderr",
     "output_type": "stream",
     "text": [
      "\n",
      "\n",
      "  0%|                                                                                           | 0/10 [00:00<?, ?it/s]\u001b[A\u001b[A"
     ]
    },
    {
     "name": "stdout",
     "output_type": "stream",
     "text": [
      "(720,)\n"
     ]
    },
    {
     "name": "stderr",
     "output_type": "stream",
     "text": [
      " 71%|█████████████████████████████████████████████████████████▌                       | 71/100 [36:12<14:40, 30.38s/it]\n",
      "\n",
      " 10%|████████▎                                                                          | 1/10 [00:28<04:17, 28.58s/it]\u001b[A\u001b[A"
     ]
    },
    {
     "name": "stdout",
     "output_type": "stream",
     "text": [
      "R2: 0.857\n",
      "7 0\n",
      "(720,)\n"
     ]
    },
    {
     "name": "stderr",
     "output_type": "stream",
     "text": [
      " 72%|██████████████████████████████████████████████████████████▎                      | 72/100 [36:38<13:32, 29.03s/it]\n",
      "\n",
      " 20%|████████████████▌                                                                  | 2/10 [00:54<03:35, 27.00s/it]\u001b[A\u001b[A"
     ]
    },
    {
     "name": "stdout",
     "output_type": "stream",
     "text": [
      "R2: 0.858\n",
      "7 1\n",
      "(720,)\n"
     ]
    },
    {
     "name": "stderr",
     "output_type": "stream",
     "text": [
      " 73%|███████████████████████████████████████████████████████████▏                     | 73/100 [37:10<13:32, 30.08s/it]\n",
      "\n",
      " 30%|████████████████████████▉                                                          | 3/10 [01:27<03:26, 29.53s/it]\u001b[A\u001b[A"
     ]
    },
    {
     "name": "stdout",
     "output_type": "stream",
     "text": [
      "R2: 0.837\n",
      "7 2\n",
      "(720,)\n"
     ]
    },
    {
     "name": "stderr",
     "output_type": "stream",
     "text": [
      " 74%|███████████████████████████████████████████████████████████▉                     | 74/100 [37:42<13:14, 30.54s/it]\n",
      "\n",
      " 40%|█████████████████████████████████▏                                                 | 4/10 [01:58<03:02, 30.35s/it]\u001b[A\u001b[A"
     ]
    },
    {
     "name": "stdout",
     "output_type": "stream",
     "text": [
      "R2: 0.825\n",
      "7 3\n",
      "(720,)\n"
     ]
    },
    {
     "name": "stderr",
     "output_type": "stream",
     "text": [
      " 75%|████████████████████████████████████████████████████████████▊                    | 75/100 [38:12<12:42, 30.52s/it]\n",
      "\n",
      " 50%|█████████████████████████████████████████▌                                         | 5/10 [02:29<02:31, 30.39s/it]\u001b[A\u001b[A"
     ]
    },
    {
     "name": "stdout",
     "output_type": "stream",
     "text": [
      "R2: 0.776\n",
      "7 4\n",
      "(720,)\n"
     ]
    },
    {
     "name": "stderr",
     "output_type": "stream",
     "text": [
      " 76%|█████████████████████████████████████████████████████████████▌                   | 76/100 [38:43<12:17, 30.73s/it]\n",
      "\n",
      " 60%|█████████████████████████████████████████████████▊                                 | 6/10 [03:00<02:02, 30.68s/it]\u001b[A\u001b[A"
     ]
    },
    {
     "name": "stdout",
     "output_type": "stream",
     "text": [
      "R2: 0.808\n",
      "7 5\n",
      "(720,)\n"
     ]
    },
    {
     "name": "stderr",
     "output_type": "stream",
     "text": [
      " 77%|██████████████████████████████████████████████████████████████▎                  | 77/100 [39:10<11:14, 29.34s/it]\n",
      "\n",
      " 70%|██████████████████████████████████████████████████████████                         | 7/10 [03:26<01:27, 29.17s/it]\u001b[A\u001b[A"
     ]
    },
    {
     "name": "stdout",
     "output_type": "stream",
     "text": [
      "R2: 0.803\n",
      "7 6\n",
      "(720,)\n"
     ]
    },
    {
     "name": "stderr",
     "output_type": "stream",
     "text": [
      " 78%|███████████████████████████████████████████████████████████████▏                 | 78/100 [39:38<10:37, 29.00s/it]\n",
      "\n",
      " 80%|██████████████████████████████████████████████████████████████████▍                | 8/10 [03:54<00:57, 28.87s/it]\u001b[A\u001b[A"
     ]
    },
    {
     "name": "stdout",
     "output_type": "stream",
     "text": [
      "R2: 0.842\n",
      "7 7\n",
      "(720,)\n"
     ]
    },
    {
     "name": "stderr",
     "output_type": "stream",
     "text": [
      " 79%|███████████████████████████████████████████████████████████████▉                 | 79/100 [40:07<10:11, 29.10s/it]\n",
      "\n",
      " 90%|██████████████████████████████████████████████████████████████████████████▋        | 9/10 [04:23<00:29, 29.02s/it]\u001b[A\u001b[A"
     ]
    },
    {
     "name": "stdout",
     "output_type": "stream",
     "text": [
      "R2: 0.817\n",
      "7 8\n",
      "(720,)\n"
     ]
    },
    {
     "name": "stderr",
     "output_type": "stream",
     "text": [
      " 80%|████████████████████████████████████████████████████████████████▊                | 80/100 [40:40<10:04, 30.20s/it]\n",
      "\n",
      "100%|██████████████████████████████████████████████████████████████████████████████████| 10/10 [04:56<00:00, 29.67s/it]\u001b[A\u001b[A\n",
      "\n",
      " 80%|█████████████████████████████████████████████████████████████████▌                | 8/10 [40:40<10:02, 301.22s/it]\u001b[A"
     ]
    },
    {
     "name": "stdout",
     "output_type": "stream",
     "text": [
      "R2: 0.831\n",
      "7 9\n"
     ]
    },
    {
     "name": "stderr",
     "output_type": "stream",
     "text": [
      "\n",
      "\n",
      "  0%|                                                                                           | 0/10 [00:00<?, ?it/s]\u001b[A\u001b[A"
     ]
    },
    {
     "name": "stdout",
     "output_type": "stream",
     "text": [
      "(720,)\n"
     ]
    },
    {
     "name": "stderr",
     "output_type": "stream",
     "text": [
      " 81%|█████████████████████████████████████████████████████████████████▌               | 81/100 [41:10<09:35, 30.29s/it]\n",
      "\n",
      " 10%|████████▎                                                                          | 1/10 [00:30<04:34, 30.48s/it]\u001b[A\u001b[A"
     ]
    },
    {
     "name": "stdout",
     "output_type": "stream",
     "text": [
      "R2: 0.866\n",
      "8 0\n",
      "(720,)\n"
     ]
    },
    {
     "name": "stderr",
     "output_type": "stream",
     "text": [
      " 82%|██████████████████████████████████████████████████████████████████▍              | 82/100 [41:47<09:41, 32.28s/it]\n",
      "\n",
      " 20%|████████████████▌                                                                  | 2/10 [01:07<04:34, 34.27s/it]\u001b[A\u001b[A"
     ]
    },
    {
     "name": "stdout",
     "output_type": "stream",
     "text": [
      "R2: 0.849\n",
      "8 1\n",
      "(720,)\n"
     ]
    },
    {
     "name": "stderr",
     "output_type": "stream",
     "text": [
      " 83%|███████████████████████████████████████████████████████████████████▏             | 83/100 [42:22<09:22, 33.09s/it]\n",
      "\n",
      " 30%|████████████████████████▉                                                          | 3/10 [01:42<04:02, 34.60s/it]\u001b[A\u001b[A"
     ]
    },
    {
     "name": "stdout",
     "output_type": "stream",
     "text": [
      "R2: 0.850\n",
      "8 2\n",
      "(720,)\n"
     ]
    },
    {
     "name": "stderr",
     "output_type": "stream",
     "text": [
      " 84%|████████████████████████████████████████████████████████████████████             | 84/100 [42:56<08:50, 33.16s/it]\n",
      "\n",
      " 40%|█████████████████████████████████▏                                                 | 4/10 [02:15<03:24, 34.09s/it]\u001b[A\u001b[A"
     ]
    },
    {
     "name": "stdout",
     "output_type": "stream",
     "text": [
      "R2: 0.827\n",
      "8 3\n",
      "(720,)\n"
     ]
    },
    {
     "name": "stderr",
     "output_type": "stream",
     "text": [
      " 85%|████████████████████████████████████████████████████████████████████▊            | 85/100 [43:29<08:17, 33.17s/it]\n",
      "\n",
      " 50%|█████████████████████████████████████████▌                                         | 5/10 [02:48<02:48, 33.77s/it]\u001b[A\u001b[A"
     ]
    },
    {
     "name": "stdout",
     "output_type": "stream",
     "text": [
      "R2: 0.812\n",
      "8 4\n",
      "(720,)\n"
     ]
    },
    {
     "name": "stderr",
     "output_type": "stream",
     "text": [
      " 86%|█████████████████████████████████████████████████████████████████████▋           | 86/100 [43:54<07:12, 30.90s/it]\n",
      "\n",
      " 60%|█████████████████████████████████████████████████▊                                 | 6/10 [03:14<02:03, 31.00s/it]\u001b[A\u001b[A"
     ]
    },
    {
     "name": "stdout",
     "output_type": "stream",
     "text": [
      "R2: 0.831\n",
      "8 5\n",
      "(720,)\n"
     ]
    },
    {
     "name": "stderr",
     "output_type": "stream",
     "text": [
      " 87%|██████████████████████████████████████████████████████████████████████▍          | 87/100 [44:20<06:20, 29.28s/it]\n",
      "\n",
      " 70%|██████████████████████████████████████████████████████████                         | 7/10 [03:40<01:27, 29.20s/it]\u001b[A\u001b[A"
     ]
    },
    {
     "name": "stdout",
     "output_type": "stream",
     "text": [
      "R2: 0.822\n",
      "8 6\n",
      "(720,)\n"
     ]
    },
    {
     "name": "stderr",
     "output_type": "stream",
     "text": [
      " 88%|███████████████████████████████████████████████████████████████████████▎         | 88/100 [44:48<05:47, 28.96s/it]\n",
      "\n",
      " 80%|██████████████████████████████████████████████████████████████████▍                | 8/10 [04:08<00:57, 28.88s/it]\u001b[A\u001b[A"
     ]
    },
    {
     "name": "stdout",
     "output_type": "stream",
     "text": [
      "R2: 0.809\n",
      "8 7\n",
      "(720,)\n"
     ]
    },
    {
     "name": "stderr",
     "output_type": "stream",
     "text": [
      " 89%|████████████████████████████████████████████████████████████████████████         | 89/100 [45:14<05:10, 28.18s/it]\n",
      "\n",
      " 90%|██████████████████████████████████████████████████████████████████████████▋        | 9/10 [04:34<00:28, 28.10s/it]\u001b[A\u001b[A"
     ]
    },
    {
     "name": "stdout",
     "output_type": "stream",
     "text": [
      "R2: 0.778\n",
      "8 8\n",
      "(720,)\n"
     ]
    },
    {
     "name": "stderr",
     "output_type": "stream",
     "text": [
      " 90%|████████████████████████████████████████████████████████████████████████▉        | 90/100 [45:38<04:26, 26.64s/it]\n",
      "\n",
      "100%|██████████████████████████████████████████████████████████████████████████████████| 10/10 [04:57<00:00, 29.76s/it]\u001b[A\u001b[A\n",
      "\n",
      " 90%|█████████████████████████████████████████████████████████████████████████▊        | 9/10 [45:38<05:00, 300.10s/it]\u001b[A"
     ]
    },
    {
     "name": "stdout",
     "output_type": "stream",
     "text": [
      "R2: 0.822\n",
      "8 9\n"
     ]
    },
    {
     "name": "stderr",
     "output_type": "stream",
     "text": [
      "\n",
      "\n",
      "  0%|                                                                                           | 0/10 [00:00<?, ?it/s]\u001b[A\u001b[A"
     ]
    },
    {
     "name": "stdout",
     "output_type": "stream",
     "text": [
      "(720,)\n"
     ]
    },
    {
     "name": "stderr",
     "output_type": "stream",
     "text": [
      " 91%|█████████████████████████████████████████████████████████████████████████▋       | 91/100 [46:00<03:47, 25.31s/it]\n",
      "\n",
      " 10%|████████▎                                                                          | 1/10 [00:22<03:19, 22.20s/it]\u001b[A\u001b[A"
     ]
    },
    {
     "name": "stdout",
     "output_type": "stream",
     "text": [
      "R2: 0.840\n",
      "9 0\n",
      "(720,)\n"
     ]
    },
    {
     "name": "stderr",
     "output_type": "stream",
     "text": [
      " 92%|██████████████████████████████████████████████████████████████████████████▌      | 92/100 [46:23<03:16, 24.59s/it]\n",
      "\n",
      " 20%|████████████████▌                                                                  | 2/10 [00:45<03:00, 22.62s/it]\u001b[A\u001b[A"
     ]
    },
    {
     "name": "stdout",
     "output_type": "stream",
     "text": [
      "R2: 0.845\n",
      "9 1\n",
      "(720,)\n"
     ]
    },
    {
     "name": "stderr",
     "output_type": "stream",
     "text": [
      " 93%|███████████████████████████████████████████████████████████████████████████▎     | 93/100 [46:51<03:00, 25.77s/it]\n",
      "\n",
      " 30%|████████████████████████▉                                                          | 3/10 [01:13<02:57, 25.32s/it]\u001b[A\u001b[A"
     ]
    },
    {
     "name": "stdout",
     "output_type": "stream",
     "text": [
      "R2: 0.834\n",
      "9 2\n",
      "(720,)\n"
     ]
    },
    {
     "name": "stderr",
     "output_type": "stream",
     "text": [
      " 94%|████████████████████████████████████████████████████████████████████████████▏    | 94/100 [47:18<02:37, 26.18s/it]\n",
      "\n",
      " 40%|█████████████████████████████████▏                                                 | 4/10 [01:40<02:36, 26.03s/it]\u001b[A\u001b[A"
     ]
    },
    {
     "name": "stdout",
     "output_type": "stream",
     "text": [
      "R2: 0.811\n",
      "9 3\n",
      "(720,)\n"
     ]
    },
    {
     "name": "stderr",
     "output_type": "stream",
     "text": [
      " 95%|████████████████████████████████████████████████████████████████████████████▉    | 95/100 [47:48<02:16, 27.30s/it]\n",
      "\n",
      " 50%|█████████████████████████████████████████▌                                         | 5/10 [02:10<02:17, 27.43s/it]\u001b[A\u001b[A"
     ]
    },
    {
     "name": "stdout",
     "output_type": "stream",
     "text": [
      "R2: 0.844\n",
      "9 4\n",
      "(720,)\n"
     ]
    },
    {
     "name": "stderr",
     "output_type": "stream",
     "text": [
      " 96%|█████████████████████████████████████████████████████████████████████████████▊   | 96/100 [48:20<01:54, 28.71s/it]\n",
      "\n",
      " 60%|█████████████████████████████████████████████████▊                                 | 6/10 [02:42<01:55, 28.99s/it]\u001b[A\u001b[A"
     ]
    },
    {
     "name": "stdout",
     "output_type": "stream",
     "text": [
      "R2: 0.853\n",
      "9 5\n",
      "(720,)\n"
     ]
    },
    {
     "name": "stderr",
     "output_type": "stream",
     "text": [
      " 97%|██████████████████████████████████████████████████████████████████████████████▌  | 97/100 [48:57<01:33, 31.04s/it]\n",
      "\n",
      " 70%|██████████████████████████████████████████████████████████                         | 7/10 [03:19<01:34, 31.44s/it]\u001b[A\u001b[A"
     ]
    },
    {
     "name": "stdout",
     "output_type": "stream",
     "text": [
      "R2: 0.842\n",
      "9 6\n",
      "(720,)\n"
     ]
    },
    {
     "name": "stderr",
     "output_type": "stream",
     "text": [
      " 98%|███████████████████████████████████████████████████████████████████████████████▍ | 98/100 [49:28<01:01, 30.98s/it]\n",
      "\n",
      " 80%|██████████████████████████████████████████████████████████████████▍                | 8/10 [03:50<01:02, 31.26s/it]\u001b[A\u001b[A"
     ]
    },
    {
     "name": "stdout",
     "output_type": "stream",
     "text": [
      "R2: 0.856\n",
      "9 7\n",
      "(720,)\n"
     ]
    },
    {
     "name": "stderr",
     "output_type": "stream",
     "text": [
      " 99%|████████████████████████████████████████████████████████████████████████████████▏| 99/100 [49:59<00:31, 31.11s/it]\n",
      "\n",
      " 90%|██████████████████████████████████████████████████████████████████████████▋        | 9/10 [04:21<00:31, 31.29s/it]\u001b[A\u001b[A"
     ]
    },
    {
     "name": "stdout",
     "output_type": "stream",
     "text": [
      "R2: 0.886\n",
      "9 8\n",
      "(720,)\n"
     ]
    },
    {
     "name": "stderr",
     "output_type": "stream",
     "text": [
      "100%|████████████████████████████████████████████████████████████████████████████████| 100/100 [50:28<00:00, 30.49s/it]\n",
      "\n",
      "100%|██████████████████████████████████████████████████████████████████████████████████| 10/10 [04:50<00:00, 29.05s/it]\u001b[A\u001b[A\n",
      "\n",
      "100%|█████████████████████████████████████████████████████████████████████████████████| 10/10 [50:28<00:00, 302.85s/it]\u001b[A\n",
      "100%|████████████████████████████████████████████████████████████████████████████████| 100/100 [50:28<00:00, 30.29s/it]"
     ]
    },
    {
     "name": "stdout",
     "output_type": "stream",
     "text": [
      "R2: 0.849\n",
      "9 9\n"
     ]
    },
    {
     "name": "stderr",
     "output_type": "stream",
     "text": [
      "\n"
     ]
    }
   ],
   "source": [
    "r2_xgboost = np.zeros((30, 100))\n",
    "from tqdm import tqdm\n",
    "import time\n",
    "\n",
    "with tqdm(total=10*10) as pbar:\n",
    "    for x in tqdm(range(10)):\n",
    "        for y in tqdm(range(10)):\n",
    "            # load the dataset\n",
    "            values = numpy_data[:, x, y]\n",
    "            # transform the time series data into supervised learning\n",
    "            data = series_to_supervised(values, n_in=1, n_out=6)\n",
    "            # evaluate\n",
    "            r2, true, yhat = walk_forward_validation(data, 72)\n",
    "            print('R2: %.3f' % r2)\n",
    "            print(x, y)\n",
    "            r2_xgboost[x][y] = r2\n",
    "            time.sleep(0.01)\n",
    "            pbar.update(1)"
   ]
  },
  {
   "cell_type": "code",
   "execution_count": 52,
   "id": "7f3a3bf6",
   "metadata": {},
   "outputs": [
    {
     "data": {
      "text/plain": [
       "0.0"
      ]
     },
     "execution_count": 52,
     "metadata": {},
     "output_type": "execute_result"
    }
   ],
   "source": [
    "r2_xgboost[0][50]"
   ]
  },
  {
   "cell_type": "code",
   "execution_count": 47,
   "id": "935510c9",
   "metadata": {},
   "outputs": [
    {
     "data": {
      "text/plain": [
       "<AxesSubplot:>"
      ]
     },
     "execution_count": 47,
     "metadata": {},
     "output_type": "execute_result"
    },
    {
     "data": {
      "image/png": "[encoded data removed]",
      "text/plain": [
       "<Figure size 432x288 with 2 Axes>"
      ]
     },
     "metadata": {
      "needs_background": "light"
     },
     "output_type": "display_data"
    }
   ],
   "source": [
    "import seaborn as sns\n",
    "sns.heatmap(numpy_data[11,:,:], linewidth=0.5, center = 0)"
   ]
  },
  {
   "cell_type": "code",
   "execution_count": 59,
   "id": "6bb41e08",
   "metadata": {},
   "outputs": [
    {
     "data": {
      "text/plain": [
       "<AxesSubplot:>"
      ]
     },
     "execution_count": 59,
     "metadata": {},
     "output_type": "execute_result"
    },
    {
     "data": {
      "image/png": "[encoded data removed]",
      "text/plain": [
       "<Figure size 432x288 with 2 Axes>"
      ]
     },
     "metadata": {
      "needs_background": "light"
     },
     "output_type": "display_data"
    }
   ],
   "source": [
    "import seaborn as sns\n",
    "sns.heatmap(r2_xgboost[:10,:10], linewidth=0.5, center = 0)"
   ]
  },
  {
   "cell_type": "code",
   "execution_count": 62,
   "id": "8ae6fdd7",
   "metadata": {},
   "outputs": [
    {
     "data": {
      "text/plain": [
       "<AxesSubplot:>"
      ]
     },
     "execution_count": 62,
     "metadata": {},
     "output_type": "execute_result"
    },
    {
     "data": {
      "image/png": "[encoded data removed]",
      "text/plain": [
       "<Figure size 432x288 with 2 Axes>"
      ]
     },
     "metadata": {
      "needs_background": "light"
     },
     "output_type": "display_data"
    }
   ],
   "source": [
    "import seaborn as sns\n",
    "sns.heatmap(numpy_data[213,:30,:100], linewidth=0.5, center = 0)"
   ]
  }
 ],
 "metadata": {
  "kernelspec": {
   "display_name": "Python 3 (ipykernel)",
   "language": "python",
   "name": "python3"
  },
  "language_info": {
   "codemirror_mode": {
    "name": "ipython",
    "version": 3
   },
   "file_extension": ".py",
   "mimetype": "text/x-python",
   "name": "python",
   "nbconvert_exporter": "python",
   "pygments_lexer": "ipython3",
   "version": "3.9.12"
  }
 },
 "nbformat": 4,
 "nbformat_minor": 5
}
